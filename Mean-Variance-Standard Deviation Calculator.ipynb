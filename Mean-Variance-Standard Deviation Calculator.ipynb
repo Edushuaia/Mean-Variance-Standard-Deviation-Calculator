{
 "cells": [
  {
   "cell_type": "markdown",
   "id": "15523b71",
   "metadata": {
    "pycharm": {
     "name": "#%% md\n"
    }
   },
   "source": [
    "## Mean-Variance-Standard Deviation Calculator"
   ]
  },
  {
   "cell_type": "code",
   "execution_count": null,
   "id": "0f079989",
   "metadata": {
    "pycharm": {
     "name": "#%%\n",
     "is_executing": true
    }
   },
   "outputs": [],
   "source": [
    "import numpy as np"
   ]
  },
  {
   "cell_type": "code",
   "execution_count": 2,
   "id": "cae9e8f5",
   "metadata": {
    "pycharm": {
     "name": "#%%\n"
    }
   },
   "outputs": [],
   "source": [
    "def calculate(statistics):\n",
    "    Calculator = {\"mean\":mean_list,\n",
    "                \"var\":var_list,\n",
    "                 \"standard deviation\":std_list,\n",
    "                 \"min\":min_list,\n",
    "                 \"max\":max_list,\n",
    "                 \"sum\":sum_list}\n",
    "    print(Calculator)"
   ]
  },
  {
   "cell_type": "code",
   "execution_count": 3,
   "id": "dc28595c",
   "metadata": {
    "pycharm": {
     "name": "#%%\n"
    }
   },
   "outputs": [
    {
     "name": "stdout",
     "output_type": "stream",
     "text": [
      "Enter 9 digit numbers separated by comma:3,5,1,6,4,5,24,9,3\n",
      "[3, 5, 1, 6, 4, 5, 24, 9, 3]\n",
      "{'mean': [[11.0, 6.0, 3.0], [3.0, 5.0, 12.0], 6.666666666666667], 'var': [[86.0, 4.666666666666667, 2.6666666666666665], [2.6666666666666665, 0.6666666666666666, 78.0], 42.0], 'standard deviation': [[9.273618495495704, 2.160246899469287, 1.632993161855452], [1.632993161855452, 0.816496580927726, 8.831760866327848], 6.48074069840786], 'min': [[3, 4, 1], [1, 4, 3], 1], 'max': [[24, 9, 5], [5, 6, 24], 24], 'sum': [[33, 18, 9], [9, 15, 36], 60]}\n"
     ]
    }
   ],
   "source": [
    "while True:\n",
    "    try:\n",
    "        numbers = input(\"Enter 9 digit numbers separated by comma:\")\n",
    "        my_list = [int(float(i)) for i in numbers.split(',')]\n",
    "\n",
    "    except ValueError:\n",
    "        print('List must contain nine numbers separated by comma. Enter again')\n",
    "\n",
    "    else:\n",
    "        if len(my_list) == 9:\n",
    "            print(my_list)\n",
    "\n",
    "            #Convert numpy array into matrix (3x3)\n",
    "            matrix = np.reshape(my_list,(3, 3))\n",
    "\n",
    "            #mean of each row\n",
    "            mean0 = matrix.mean(axis=0)\n",
    "\n",
    "            #mean of each column\n",
    "            mean1 = matrix.mean(axis=1)\n",
    "\n",
    "            #mean of flattened matrix\n",
    "            meanf = np.mean(matrix)\n",
    "\n",
    "            #mean along both axes and flattened matrix\n",
    "            #tolist() converts array into list\n",
    "            mean_list = [mean0.tolist(),mean1.tolist(),meanf]\n",
    "\n",
    "            #var of each row\n",
    "            var0 = matrix.var(axis=0)\n",
    "\n",
    "            #var of each column\n",
    "            var1 = matrix.var(axis=1)\n",
    "\n",
    "            #var of flattened matrix\n",
    "            varf = np.var(matrix)\n",
    "\n",
    "            #var along both axes and flattened matrix\n",
    "            #tolist() converts array into list\n",
    "            var_list = [var0.tolist(),var1.tolist(),varf]\n",
    "\n",
    "            #std of each row\n",
    "            std0 = matrix.std(axis=0)\n",
    "\n",
    "            #var of each column\n",
    "            std1 = matrix.std(axis=1)\n",
    "\n",
    "            #var of flattened matrix\n",
    "            stdf = np.std(matrix)\n",
    "\n",
    "            #var along both axes and flattened matrix\n",
    "            #tolist() converts array into list\n",
    "            std_list = [std0.tolist(),std1.tolist(),stdf]\n",
    "\n",
    "            #max of each row\n",
    "            max0 = matrix.max(axis=0)\n",
    "\n",
    "            #max of each column\n",
    "            max1 = matrix.max(axis=1)\n",
    "\n",
    "            #max of flattened matrix\n",
    "            maxf = np.max(matrix)\n",
    "\n",
    "            #var along both axes and flattened matrix\n",
    "            #tolist() converts array into list\n",
    "            max_list = [max0.tolist(),max1.tolist(),maxf]\n",
    "\n",
    "            #min of each row\n",
    "            min0 = matrix.min(axis=0)\n",
    "\n",
    "            #var of each column\n",
    "            min1 = matrix.min(axis=1)\n",
    "\n",
    "            #var of flattened matrix\n",
    "            minf = np.min(matrix)\n",
    "\n",
    "            #var along both axes and flattened matrix\n",
    "            #tolist() converts array into list\n",
    "            min_list = [min0.tolist(),min1.tolist(),minf]\n",
    "\n",
    "            #sum of each row\n",
    "            sum0 = matrix.sum(axis=0)\n",
    "\n",
    "            #sum of each column\n",
    "            sum1 = matrix.sum(axis=1)\n",
    "\n",
    "            #var of flattened matrix\n",
    "            sumf = np.sum(matrix)\n",
    "\n",
    "            #var along both axes and flattened matrix\n",
    "            #tolist() converts array into list\n",
    "            sum_list = [sum0.tolist(),sum1.tolist(), sumf]\n",
    "\n",
    "            #dictionary from calculations\n",
    "\n",
    "            Calculator = {\"mean\":mean_list,\n",
    "                          \"var\":var_list,\n",
    "                          \"standard deviation\":std_list,\n",
    "                          \"min\":min_list,\n",
    "                          \"max\":max_list,\n",
    "                          \"sum\":sum_list}\n",
    "            print(Calculator)\n",
    "            break\n",
    "        else:\n",
    "            print('Input must be 9 numbers separated by comma')\n",
    " "
   ]
  }
 ],
 "metadata": {
  "kernelspec": {
   "display_name": "Python 3 (ipykernel)",
   "language": "python",
   "name": "python3"
  },
  "language_info": {
   "codemirror_mode": {
    "name": "ipython",
    "version": 3
   },
   "file_extension": ".py",
   "mimetype": "text/x-python",
   "name": "python",
   "nbconvert_exporter": "python",
   "pygments_lexer": "ipython3",
   "version": "3.9.12"
  }
 },
 "nbformat": 4,
 "nbformat_minor": 5
}